{
 "cells": [
  {
   "cell_type": "code",
   "execution_count": 10,
   "id": "f03acf26",
   "metadata": {},
   "outputs": [
    {
     "name": "stdout",
     "output_type": "stream",
     "text": [
      " Volume in drive D is Archivos\n",
      " Volume Serial Number is 14F2-C3DD\n",
      "\n",
      " Directory of D:\\Personal - Drive\\Cursos\\PEA Advanced Data Science Edici¢n 4\\11 Machine Learning Engineering\\Proyecto\n",
      "\n",
      "09/05/2023  06:08    <DIR>          .\n",
      "09/05/2023  06:08    <DIR>          ..\n",
      "09/05/2023  06:11    <DIR>          Codigo_Fuente\n",
      "               0 File(s)              0 bytes\n",
      "               3 Dir(s)  511.910.215.680 bytes free\n"
     ]
    }
   ],
   "source": [
    "!cd.. && dir"
   ]
  },
  {
   "cell_type": "code",
   "execution_count": null,
   "id": "2ccd19e5",
   "metadata": {},
   "outputs": [],
   "source": []
  }
 ],
 "metadata": {
  "kernelspec": {
   "display_name": "Python 3 (ipykernel)",
   "language": "python",
   "name": "python3"
  },
  "language_info": {
   "codemirror_mode": {
    "name": "ipython",
    "version": 3
   },
   "file_extension": ".py",
   "mimetype": "text/x-python",
   "name": "python",
   "nbconvert_exporter": "python",
   "pygments_lexer": "ipython3",
   "version": "3.7.0"
  }
 },
 "nbformat": 4,
 "nbformat_minor": 5
}
